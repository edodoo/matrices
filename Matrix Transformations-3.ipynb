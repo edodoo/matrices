{
 "cells": [
  {
   "cell_type": "markdown",
   "id": "demonstrated-license",
   "metadata": {},
   "source": [
    "# Activity: Matrix Transformations  "
   ]
  },
  {
   "cell_type": "markdown",
   "id": "color-desire",
   "metadata": {},
   "source": [
    "In this activity, extracted from ROB 101 -- Task 1, we will graph a simple square. Following this, we will rotate and scale it in various directions. You will not need to manipulate too much code within this activity."
   ]
  },
  {
   "cell_type": "code",
   "execution_count": null,
   "id": "clean-resolution",
   "metadata": {},
   "outputs": [],
   "source": [
    "#This box allows you to graph anything as long as you have imported the Plots package\n",
    "\n",
    "import Pkg;\n",
    "Pkg.add(\"Plots\")\n",
    "using Plots\n",
    "default(fmt = :png)"
   ]
  },
  {
   "cell_type": "markdown",
   "id": "prepared-breed",
   "metadata": {},
   "source": [
    "# Creating an initial square"
   ]
  },
  {
   "cell_type": "markdown",
   "id": "working-terrorism",
   "metadata": {},
   "source": [
    "We will be defining points to form a square. In addition to this, we will change the color of the square, and also change the width of the x- and y-axes.\n",
    "\n",
    "It should be noted that there are five (5) points/coordinates that define a square. Once you start at the origin, that's where you should end in order for all lines to be connected."
   ]
  },
  {
   "cell_type": "code",
   "execution_count": null,
   "id": "joint-corpus",
   "metadata": {},
   "outputs": [],
   "source": [
    "# DRAWING AND PLOTTING\n",
    "\n",
    "# coordianate points to make a square should be represented as: [x1. y1.; x2. y2.; x3. y3.; ...; x1. y1.]\n",
    "points = #enter points here;\n",
    "\n",
    "\n",
    "x = points[1,:];\n",
    "y = points[2,:];\n",
    "\n",
    "\n",
    "#= PLOTTING THE GRAPH\n",
    "xlims ==> x-axis, and ylims ==> y-axis\n",
    "seriescolor ==> color of plotting lines for your shape\n",
    "linewidth ==> how think you want your plotting lines to be. The higher the number, the thicker the line\n",
    "=#\n",
    "plot(x,y, xlims = (-3,3), ylims = (-3,3), seriescolor = :purple, aspect_ratio=:equal, \n",
    "    grid = true, framestyle = :origin, legend = false, linewidth=3)"
   ]
  },
  {
   "cell_type": "markdown",
   "id": "coordinate-supplement",
   "metadata": {},
   "source": [
    "# Translation using the *Homogeneous Coordinate*"
   ]
  },
  {
   "cell_type": "markdown",
   "id": "systematic-explanation",
   "metadata": {},
   "source": [
    "The purpose of the homogeneous coordinate is to capture the concept of infinity. Projective geometry (transformations, rotations, and scaling) relies heavily on homogeneous coordinates as well. Essentially, homogeneous coordinated are just a nice triplet of numbers to represent infinity. ![Capture.PNG](attachment:Capture.PNG)"
   ]
  },
  {
   "cell_type": "code",
   "execution_count": null,
   "id": "critical-father",
   "metadata": {},
   "outputs": [],
   "source": [
    "# TRANSLATION \n",
    "\n",
    "T = #ENTER YOUR MATRIX HERE;\n",
    "\n",
    "# Make a copy of the original points from *DRAWING AND PLOTTING*\n",
    "points2 = copy(points);\n",
    "# Append 1 to each point to make homogeneous coordinates\n",
    "points2 = [points2; ones(1,5)];\n",
    "\n",
    "#= DO NOT TOUCH THE NEXT LINES OF CODE\n",
    "# Apply the translation to each of the points that form our square\n",
    "# We use a for loop because later, when you get to LiDAR data, you will have thousands \n",
    "# points and not just 5 (x,y)-pairs.\n",
    "=#\n",
    "for i in 1:size(points2,2)\n",
    "    points2[:,i] = T * points2[:,i];\n",
    "end\n",
    "\n",
    "x2 = points2[1,:];\n",
    "y2 = points2[2,:];\n",
    "\n",
    "# PLOTTING THE GRAPH\n",
    "plot!(x2,y2, xlims = (-3,3), ylims = (-3,3), seriescolor = :purple, aspect_ratio=:equal, \n",
    "    grid = true, framestyle = :origin, legend = false, linewidth=5)\n",
    "\n"
   ]
  },
  {
   "cell_type": "markdown",
   "id": "cutting-penalty",
   "metadata": {},
   "source": [
    "# GOING FURTHER - Equilateral Triange"
   ]
  },
  {
   "cell_type": "code",
   "execution_count": null,
   "id": "material-support",
   "metadata": {},
   "outputs": [],
   "source": []
  },
  {
   "cell_type": "markdown",
   "id": "convenient-canada",
   "metadata": {},
   "source": [
    "# GOING FURTHER - Regular Pentagon"
   ]
  },
  {
   "cell_type": "code",
   "execution_count": null,
   "id": "cheap-reaction",
   "metadata": {},
   "outputs": [],
   "source": []
  }
 ],
 "metadata": {
  "kernelspec": {
   "display_name": "Julia 1.6.2",
   "language": "julia",
   "name": "julia-1.6"
  },
  "language_info": {
   "file_extension": ".jl",
   "mimetype": "application/julia",
   "name": "julia",
   "version": "1.6.2"
  }
 },
 "nbformat": 4,
 "nbformat_minor": 5
}

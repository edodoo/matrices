{
 "cells": [
  {
   "cell_type": "markdown",
   "id": "agricultural-consumer",
   "metadata": {},
   "source": [
    "# Activity: Matrix Transformations"
   ]
  },
  {
   "cell_type": "markdown",
   "id": "polish-ethernet",
   "metadata": {},
   "source": [
    "In this activity, extracted from ROB 101 -- Task 1, we will graph a simple square. Following this, we will rotate and scale it in various directions. You will not need to manipulate too much code within this activity."
   ]
  },
  {
   "cell_type": "code",
   "execution_count": null,
   "id": "gorgeous-reproduction",
   "metadata": {},
   "outputs": [],
   "source": [
    "#This box allows you to graph through importing the package called Plots\n",
    "import Pkg;\n",
    "Pkg.add(\"Plots\")\n",
    "using Plots\n",
    "\n",
    "default(fmt = :png)"
   ]
  },
  {
   "cell_type": "markdown",
   "id": "black-photograph",
   "metadata": {},
   "source": [
    "# Creating an initial square"
   ]
  },
  {
   "cell_type": "code",
   "execution_count": null,
   "id": "behavioral-circulation",
   "metadata": {},
   "outputs": [],
   "source": [
    "#= Define points to form a square, note there are five points, we need to come back\n",
    "   to the first point to complete the square for plotting (connecting lines) =#\n",
    "\n",
    "# coordianate points to make a square should be represented as: [x1. y1.; x2. y2.; x3. y3.; ...; x1. y1.]\n",
    "points = [0. 0.; 0. 1.;1. 1.; 1. 0.; 0. 0.]';\n",
    "\n",
    "# x-coordinates extracted from the array\n",
    "x = points[1,:];\n",
    "\n",
    "# y-coordinates extracted from the array\n",
    "y = points[2,:];\n",
    "\n",
    "# plotting the array of points in the same plot as a coordinate frame \n",
    "plot(x,y, seriescolor = :green, aspect_ratio=:equal, xlims = (-2,2), ylims = (-2,2), \n",
    "    grid = true, framestyle = :origin, legend = false, linewidth=3)"
   ]
  },
  {
   "cell_type": "code",
   "execution_count": null,
   "id": "quarterly-error",
   "metadata": {},
   "outputs": [],
   "source": []
  }
 ],
 "metadata": {
  "kernelspec": {
   "display_name": "Julia 1.6.1",
   "language": "julia",
   "name": "julia-1.6"
  },
  "language_info": {
   "file_extension": ".jl",
   "mimetype": "application/julia",
   "name": "julia",
   "version": "1.6.1"
  }
 },
 "nbformat": 4,
 "nbformat_minor": 5
}
